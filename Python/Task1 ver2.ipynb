{
 "cells": [
  {
   "cell_type": "code",
   "execution_count": 11,
   "id": "9fe65882-39f0-40f4-8dd4-42f05e2db09c",
   "metadata": {},
   "outputs": [],
   "source": [
    "import numpy as np\n",
    "import matplotlib.pyplot as plt\n",
    "\n",
    "from scipy.sparse.linalg import cg, spilu, LinearOperator, aslinearoperator\n",
    "from scipy.sparse import isspmatrix, csr_matrix, tril, diags"
   ]
  },
  {
   "cell_type": "code",
   "execution_count": 12,
   "id": "a265b589-244c-4c4a-957f-282e7056d935",
   "metadata": {},
   "outputs": [],
   "source": [
    "# Function to create matrix A\n",
    "def generate_matrix_A(n):\n",
    "    diagonals = [\n",
    "        -1 * np.ones(n - 1),  # Lower diagonal\n",
    "        2 * np.ones(n),       # Main diagonal\n",
    "        -1 * np.ones(n - 1)   # Upper diagonal\n",
    "    ]\n",
    "    \n",
    "    # Create the sparse matrix\n",
    "    A = diags(diagonals, offsets=[-1, 0, 1], format='csr')\n",
    "    \n",
    "    # Adjust the last diagonal element\n",
    "    A[-1, -1] = 1  # Update the last diagonal element directly in the sparse matrix\n",
    "    \n",
    "    return A"
   ]
  },
  {
   "cell_type": "code",
   "execution_count": 14,
   "id": "d1839bd1-6dad-4d15-963f-e6dbc09bf2de",
   "metadata": {},
   "outputs": [
    {
     "data": {
      "image/png": "[encoded data removed]",
      "text/plain": [
       "<Figure size 640x480 with 1 Axes>"
      ]
     },
     "metadata": {},
     "output_type": "display_data"
    }
   ],
   "source": [
    "A= generate_matrix_A(10)\n",
    "plt.spy(A, markersize=10, precision=0.1)\n",
    "plt.show()"
   ]
  },
  {
   "cell_type": "code",
   "execution_count": 15,
   "id": "c959b85f-095d-49db-a5bb-5ab2b140e6a6",
   "metadata": {},
   "outputs": [],
   "source": [
    "# Function to create vector b\n",
    "def generate_vector_b(n):\n",
    "    b = np.zeros(n)\n",
    "    b[0] = 1\n",
    "    return b"
   ]
  },
  {
   "cell_type": "code",
   "execution_count": 16,
   "id": "47bf0f27-0f99-4120-a0ba-eb3d0e2082c7",
   "metadata": {},
   "outputs": [],
   "source": [
    "def conjugate_gradient_with_tracking(A, b, x0=None, tol=1e-6, max_iter=1000, verbose=False):\n",
    "    if x0 is None:\n",
    "        x0 = np.zeros_like(b)\n",
    "    x = x0.copy()\n",
    "    r = b - A @ x\n",
    "    rs_old = np.dot(r.T, r)\n",
    "    \n",
    "    if np.sqrt(rs_old) < tol:  # Initial guess is the solution\n",
    "        if verbose:\n",
    "            print(\"Initial guess is the solution.\")\n",
    "        return x, [np.sqrt(rs_old)], [x], 0\n",
    "\n",
    "    p = r.copy()\n",
    "    residuals = [np.sqrt(rs_old)]\n",
    "    solutions = [x.copy()]\n",
    "\n",
    "    for i in range(max_iter):\n",
    "        Ap = A @ p\n",
    "        denominator = np.dot(p.T, Ap)\n",
    "        if np.abs(denominator) < 1e-12:  # Prevent division by zero\n",
    "            if verbose:\n",
    "                print(\"Numerical instability detected. Terminating early.\")\n",
    "            break\n",
    "        alpha = rs_old / denominator\n",
    "        x += alpha * p\n",
    "        r -= alpha * Ap\n",
    "        rs_new = np.dot(r.T, r)\n",
    "\n",
    "        residuals.append(np.sqrt(rs_new))\n",
    "        solutions.append(x.copy())\n",
    "\n",
    "        if np.sqrt(rs_new) < tol:  # Convergence check\n",
    "            if verbose:\n",
    "                print(f\"Converged in {i + 1} iterations with residual norm {np.sqrt(rs_new):.2e}.\")\n",
    "            break\n",
    "\n",
    "        p = r + (rs_new / rs_old) * p\n",
    "        rs_old = rs_new\n",
    "\n",
    "    else:\n",
    "        if verbose:\n",
    "            print(f\"Did not converge within {max_iter} iterations. Final residual norm: {np.sqrt(rs_new):.2e}\")\n",
    "\n",
    "    return x, residuals, solutions, i + 1\n"
   ]
  },
  {
   "cell_type": "code",
   "execution_count": 17,
   "id": "b630fd63-b2c6-4c62-8133-6cece27694b5",
   "metadata": {},
   "outputs": [],
   "source": [
    "# Main experiment\n",
    "def run_experiment(n,x0=None):\n",
    "    A = generate_matrix_A(n)\n",
    "    b = generate_vector_b(n)\n",
    "    \n",
    "    \n",
    "    # Solve using custom CG\n",
    "    print(f\"Running CG for n={n}\")\n",
    "    \n",
    "    x_custom,residuals, solutions,iterations = conjugate_gradient_with_tracking(A, b,x0)\n",
    "    #print(f\"Custom Solution (n={n}): {x_custom} , Number of iterations = {iterations}\")\n",
    "\n",
    "    # Verify the solution\n",
    "    x_true = np.ones(n)  # The true solution is a vector of ones\n",
    "    error_custom_cg = np.linalg.norm(x_custom - x_true)\n",
    "    print(f\"Custom Solution (n={n}), Number of iterations = {iterations}, Custom Solution error: {error_custom_cg}\")\n",
    "\n",
    "    # List to track iterations\n",
    "    iteration_count = []\n",
    "\n",
    "    def callback(xk):\n",
    "        iteration_count.append(1)\n",
    "    \n",
    "    # Validate with scipy's cg solver\n",
    "    x_scipy, info = cg(A, b,x0, atol=1e-6,maxiter=1000, callback=callback)  # Fixed here\n",
    "    error_scipy_cg = np.linalg.norm(x_scipy - x_true)\n",
    "    print(f\"Scipy CG Convergence Info: {info}, Number of iterations:{len(iteration_count)}, Scipy Solution error: {error_scipy_cg}\")\n",
    "    \n",
    "    return x_custom, x_scipy\n"
   ]
  },
  {
   "cell_type": "code",
   "execution_count": 18,
   "id": "46ef0f42-c84d-4dce-8c38-2815f2d6f2de",
   "metadata": {},
   "outputs": [
    {
     "name": "stdout",
     "output_type": "stream",
     "text": [
      "Running CG for n=100\n",
      "Custom Solution (n=100), Number of iterations = 100, Custom Solution error: 3.590468814167395e-14\n",
      "Scipy CG Convergence Info: 0, Number of iterations:100, Scipy Solution error: 3.590468814167395e-14\n",
      "n=100, x0 results\n",
      "\n",
      "Running CG for n=100\n",
      "Custom Solution (n=100), Number of iterations = 0, Custom Solution error: 0.0\n",
      "Scipy CG Convergence Info: 0, Number of iterations:0, Scipy Solution error: 0.0\n",
      "n=100, x0_one results\n",
      "\n",
      "Running CG for n=100\n",
      "Custom Solution (n=100), Number of iterations = 100, Custom Solution error: 1.6423499783431671e-12\n",
      "Scipy CG Convergence Info: 0, Number of iterations:100, Scipy Solution error: 1.6423499783431671e-12\n",
      "n=100, x0_random results\n",
      "\n",
      "Running CG for n=100\n",
      "Custom Solution (n=100), Number of iterations = 100, Custom Solution error: 2.7588055922248697e-12\n",
      "Scipy CG Convergence Info: 0, Number of iterations:100, Scipy Solution error: 2.7588055922248697e-12\n",
      "n=100, x0_adjusted results\n"
     ]
    }
   ],
   "source": [
    "# Run for different matrix sizes\n",
    "for n in [100]:\n",
    "    # Generate random and adjusted starting points\n",
    "    x0 = np.ones(n)\n",
    "    x0_random = np.random.rand(n)\n",
    "    x0_adjusted = np.ones(n) - x0_random\n",
    "\n",
    "    # Run the experiment with `x0`\n",
    "    x_custom_random, x_scipy_random = run_experiment(n, x0=None)\n",
    "    print(f\"n={n}, x0 results\\n\")\n",
    "\n",
    "    # Run the experiment with `x0_one`\n",
    "    x_custom_random, x_scipy_random = run_experiment(n, x0=x0)\n",
    "    print(f\"n={n}, x0_one results\\n\")\n",
    "    \n",
    "    # Run the experiment with `x0_random`\n",
    "    x_custom_random, x_scipy_random = run_experiment(n, x0=x0_random)\n",
    "    print(f\"n={n}, x0_random results\\n\")\n",
    "    \n",
    "    # Run the experiment with `x0_adjusted`\n",
    "    x_custom_adjusted, x_scipy_adjusted = run_experiment(n, x0=x0_adjusted)\n",
    "    print(f\"n={n}, x0_adjusted results\")\n"
   ]
  },
  {
   "cell_type": "code",
   "execution_count": 19,
   "id": "b8c09b54-6a3c-4673-86b0-09210adf1d58",
   "metadata": {},
   "outputs": [],
   "source": [
    "def plot_results(residuals, solutions, true_solution, n):\n",
    "    # Plot residual norms\n",
    "    plt.figure(figsize=(10, 5))\n",
    "    plt.plot(residuals, marker='o')\n",
    "    plt.title(f'Residual Norms per Iteration (n={n})')\n",
    "    plt.xlabel('Iteration')\n",
    "    plt.ylabel('Residual Norm')\n",
    "    plt.yscale('log')\n",
    "    plt.grid(True)\n",
    "    plt.show()\n",
    "    \n",
    "    # # Visualize intermediate solutions\n",
    "    # plt.figure(figsize=(10, 5))\n",
    "    # for i in range(len(solutions)):\n",
    "    #     if i % (len(solutions) // 5) == 0 or i == len(solutions) - 1:  # Plot 5 steps + final\n",
    "    #         plt.plot(solutions[i], label=f'Iteration {i}')\n",
    "    # plt.plot(true_solution, label='True Solution', linestyle='**', color='black')\n",
    "    # plt.title(f'Solution Evolution (n={n})')\n",
    "    # plt.xlabel('Index')\n",
    "    # plt.ylabel('Solution Value')\n",
    "    # plt.legend()\n",
    "    # plt.grid(True)\n",
    "    # plt.show()\n"
   ]
  },
  {
   "cell_type": "code",
   "execution_count": 20,
   "id": "b714a8c4-3637-4de0-b3bb-72d5f62cea3c",
   "metadata": {},
   "outputs": [
    {
     "data": {
      "image/png": "[encoded data removed]",
      "text/plain": [
       "<Figure size 1000x500 with 1 Axes>"
      ]
     },
     "metadata": {},
     "output_type": "display_data"
    }
   ],
   "source": [
    "# Run experiment and plot for n=50\n",
    "n = 100\n",
    "A = generate_matrix_A(n)\n",
    "b = generate_vector_b (n)\n",
    "\n",
    "# True solution for comparison\n",
    "true_solution = np.ones(n)\n",
    "\n",
    "# Run CG with tracking\n",
    "x_custom,residuals, solutions,iterations = conjugate_gradient_with_tracking(A, b)\n",
    "\n",
    "# Plot results\n",
    "plot_results(residuals, solutions, true_solution, iterations)\n"
   ]
  },
  {
   "cell_type": "markdown",
   "id": "0748ac5f-0600-4242-9bce-365c0622d569",
   "metadata": {},
   "source": [
    "The plots show the following:\n",
    "\t1.\tResidual Norms:\n",
    "\t•\tThe residual norm decreases exponentially with each iteration, evident from the straight-line behavior on the log scale. This indicates the method’s consistent convergence.\n",
    "\t2.\tSolution Evolution:\n",
    "\t•\tThe intermediate solutions gradually approach the true solution  [1, \\dots, 0] .\n",
    "\t•\tThe first few iterations adjust the values on the leftmost indices, and subsequent iterations refine the solution, spreading information to the right."
   ]
  },
  {
   "cell_type": "markdown",
   "id": "2068bfc8-2fc9-45a8-ba45-3c1d69b6092a",
   "metadata": {},
   "source": [
    "observation 3.obvservation in screen shot in note"
   ]
  },
  {
   "cell_type": "code",
   "execution_count": null,
   "id": "d22c2a50-f5bc-4f7f-9f43-6721d508cf18",
   "metadata": {},
   "outputs": [],
   "source": []
  }
 ],
 "metadata": {
  "kernelspec": {
   "display_name": "Python 3 (ipykernel)",
   "language": "python",
   "name": "python3"
  },
  "language_info": {
   "codemirror_mode": {
    "name": "ipython",
    "version": 3
   },
   "file_extension": ".py",
   "mimetype": "text/x-python",
   "name": "python",
   "nbconvert_exporter": "python",
   "pygments_lexer": "ipython3",
   "version": "3.12.1"
  }
 },
 "nbformat": 4,
 "nbformat_minor": 5
}
