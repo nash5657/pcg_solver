{
 "cells": [
  {
   "cell_type": "code",
   "execution_count": 59,
   "id": "beed1d83-3a91-4d91-8e98-e0984873e234",
   "metadata": {},
   "outputs": [],
   "source": [
    "import numpy as np\n",
    "from scipy.sparse import diags, csr_matrix ,tril\n",
    "from scipy.sparse.linalg import cg, spilu, LinearOperator"
   ]
  },
  {
   "cell_type": "code",
   "execution_count": 60,
   "id": "c3de22c1-a332-4836-a027-1ce37ef2ec22",
   "metadata": {},
   "outputs": [],
   "source": [
    "# Function to create matrix A\n",
    "def create_matrix_A(n):\n",
    "    diagonals = [\n",
    "        -1 * np.ones(n - 1),  # Lower diagonal\n",
    "        2 * np.ones(n),       # Main diagonal\n",
    "        -1 * np.ones(n - 1)   # Upper diagonal\n",
    "    ]\n",
    "    \n",
    "    # Create the sparse matrix\n",
    "    A = diags(diagonals, offsets=[-1, 0, 1], format='csr')\n",
    "    \n",
    "    # Adjust the last diagonal element\n",
    "    A[-1, -1] = 1  # Update the last diagonal element directly in the sparse matrix\n",
    "    \n",
    "    return A\n",
    "\n",
    "n = 1000  # Size of the matrix\n",
    "A = create_matrix_A(n)\n",
    "\n",
    "# Right-hand side vector b\n",
    "b = np.zeros(n)\n",
    "b[0] = 1  # As per problem definition\n"
   ]
  },
  {
   "cell_type": "code",
   "execution_count": 61,
   "id": "d770f347-d597-4479-99fe-339b35de365c",
   "metadata": {},
   "outputs": [],
   "source": [
    "def ichol_sparse_optimized(A): #final version\n",
    "    \"\"\"\n",
    "    Optimized Incomplete Cholesky factorization for a sparse matrix A.\n",
    "    A should be a symmetric positive definite matrix in CSR format.\n",
    "    \"\"\"\n",
    "    A = A.tocsr()  # Ensure A is in CSR format\n",
    "    n = A.shape[0]\n",
    "    L = A.copy()   # Create a copy of A to store the result\n",
    "\n",
    "    for k in range(n):\n",
    "        # Update the diagonal element\n",
    "        L[k, k] = np.sqrt(L[k, k])\n",
    "        \n",
    "        # Update column k below the diagonal\n",
    "        rows = L.indices[L.indptr[k] : L.indptr[k + 1]]\n",
    "        rows = rows[rows > k]  # Only consider rows below the diagonal\n",
    "        \n",
    "        if rows.size > 0:\n",
    "            L[rows, k] /= L[k, k]\n",
    "\n",
    "        # Update the lower-right submatrix\n",
    "        for i in rows:\n",
    "            L[i, rows] -= L[i, k] * L[rows, k]\n",
    "    \n",
    "    # Extract the lower triangular part of L\n",
    "    L = tril(L, format='csr')\n",
    "    return L\n"
   ]
  },
  {
   "cell_type": "code",
   "execution_count": 55,
   "id": "1640bcf8-496e-4ee8-a7ce-cfc8851236a8",
   "metadata": {},
   "outputs": [],
   "source": [
    "n = 1000  # Size of the matrix\n",
    "A = create_matrix_A(n)"
   ]
  },
  {
   "cell_type": "code",
   "execution_count": 57,
   "id": "b0d85858-ea81-46ad-94d2-aa1cf82c9592",
   "metadata": {},
   "outputs": [],
   "source": [
    "# Compute the Incomplete Cholesky factorization\n",
    "L_optimised = ichol_sparse_optimized(A)\n",
    "\n",
    "# # Print the sparsity structure of L\n",
    "# print(\"Sparsity of L:\", L.nnz / (n * n))"
   ]
  },
  {
   "cell_type": "code",
   "execution_count": 58,
   "id": "2c7f6217-4a54-4876-8e19-4c29ea856d67",
   "metadata": {},
   "outputs": [
    {
     "name": "stdout",
     "output_type": "stream",
     "text": [
      "\n",
      "Frobenius Norm of the Difference: 1.96904364855533\n",
      "\n",
      "Reconstruction Error (Manual): 5.133506074316015e-15\n",
      "\n",
      "Reconstruction Error (optimised): 5.133506074316015e-15\n",
      "Reconstruction Error (spilu): 3.4459711932638433\n"
     ]
    }
   ],
   "source": [
    "from scipy.sparse.linalg import spilu, LinearOperator\n",
    "\n",
    "# Compute the Incomplete Cholesky factorization using scipy's spilu\n",
    "A_csc = A.tocsc()  # Convert A to CSC format as required by spilu\n",
    "ilu = spilu(A_csc, drop_tol=1e-4, fill_factor=10)\n",
    "\n",
    "# Extract the lower triangular matrix L from spilu\n",
    "L_spilu = ilu.L.todense()\n",
    "\n",
    "# Compute the Frobenius norm of the difference between the two matrices\n",
    "difference_norm = np.linalg.norm(L.toarray() - L_spilu, ord='fro')\n",
    "\n",
    "# # Print the matrices and the norm of the difference\n",
    "# print(\"Manually Computed Incomplete Cholesky Factorization (L):\")\n",
    "# print(L.toarray())\n",
    "\n",
    "# print(\"\\nscipy's spilu Incomplete Cholesky Factorization (L):\")\n",
    "# print(L_spilu)\n",
    "\n",
    "print(f\"\\nFrobenius Norm of the Difference: {difference_norm}\")\n",
    "\n",
    "# Verify properties: L * L^T should approximate A\n",
    "A_manual_reconstructed = L @ L.T\n",
    "A_manual_optimised = L_optimised @ L_optimised.T\n",
    "A_spilu_reconstructed = np.dot(L_spilu, L_spilu.T)\n",
    "\n",
    "# Check the norm of the difference between A and the reconstructed matrices\n",
    "manual_diff = np.linalg.norm(A.toarray() - A_manual_reconstructed, ord='fro')\n",
    "manual_diff_optimised = np.linalg.norm(A.toarray() - A_manual_optimised, ord='fro')\n",
    "spilu_diff = np.linalg.norm(A.toarray() - A_spilu_reconstructed, ord='fro')\n",
    "\n",
    "print(f\"\\nReconstruction Error (Manual): {manual_diff}\")\n",
    "print(f\"\\nReconstruction Error (optimised): {manual_diff_optimised}\")\n",
    "print(f\"Reconstruction Error (spilu): {spilu_diff}\")\n"
   ]
  },
  {
   "cell_type": "code",
   "execution_count": 32,
   "id": "7fea06ab-9ba7-4e9a-8378-2f104eb07b5b",
   "metadata": {},
   "outputs": [],
   "source": [
    "# Compute the Incomplete Cholesky factorization of A\n",
    "from scipy.sparse.linalg import spilu\n",
    "\n",
    "# Since A is symmetric positive-definite, we need to ensure it suits the ILU solver\n",
    "# Convert A to CSC format for spilu\n",
    "A_csc = A.tocsc()\n",
    "\n",
    "# Set drop tolerance and fill factor for the ILU (used as IC in symmetric cases)\n",
    "ilu = spilu(A_csc, drop_tol=1e-4, fill_factor=10)\n",
    "\n",
    "# Create a LinearOperator for the preconditioner\n",
    "M_x = lambda x: ilu.solve(x)\n",
    "M = LinearOperator(A.shape, M_x)\n"
   ]
  },
  {
   "cell_type": "code",
   "execution_count": 33,
   "id": "f58431cb-432d-4cbd-b648-4aa81117936a",
   "metadata": {},
   "outputs": [
    {
     "name": "stdout",
     "output_type": "stream",
     "text": [
      "<10x10 _CustomLinearOperator with dtype=float64>\n"
     ]
    }
   ],
   "source": [
    "print(M)"
   ]
  },
  {
   "cell_type": "markdown",
   "id": "c1d31ed4-0ce6-4aee-83b4-73434a8b2a07",
   "metadata": {},
   "source": [
    "Note: While spilu is designed for general matrices, it can be used to approximate the Incomplete Cholesky factorization for symmetric positive-definite matrices by treating it as an incomplete LU factorization. Alternatively, you can use scipy.sparse.linalg.spilu with appropriate options to mimic incomplete Cholesky."
   ]
  },
  {
   "cell_type": "code",
   "execution_count": 4,
   "id": "eaca8af6-45df-49e5-9420-ef6410bfe099",
   "metadata": {},
   "outputs": [],
   "source": [
    "# Initial guess\n",
    "x0 = np.zeros_like(b)\n"
   ]
  },
  {
   "cell_type": "code",
   "execution_count": 5,
   "id": "8372fe6f-218a-4b13-9ce7-4a58f6e8d0a1",
   "metadata": {},
   "outputs": [
    {
     "name": "stdout",
     "output_type": "stream",
     "text": [
      "Converged successfully with preconditioning.\n"
     ]
    }
   ],
   "source": [
    "\n",
    "# Solve using CG with the preconditioner\n",
    "x, info = cg(A, b, x0=x0, atol=1e-6, maxiter=n, M=M)\n",
    "\n",
    "if info == 0:\n",
    "    print(\"Converged successfully with preconditioning.\")\n",
    "else:\n",
    "    print(f\"CG did not converge within the maximum number of iterations. Info code: {info}\")\n"
   ]
  },
  {
   "cell_type": "code",
   "execution_count": 6,
   "id": "86abf892-77e9-49e5-be87-396b3f40abdc",
   "metadata": {},
   "outputs": [
    {
     "name": "stdout",
     "output_type": "stream",
     "text": [
      "CG did not converge within the maximum number of iterations without preconditioning. Info code: 1000\n"
     ]
    }
   ],
   "source": [
    "# Solve without preconditioning\n",
    "x_np, info_np = cg(A, b, x0=x0, atol=1e-6, maxiter=n)\n",
    "\n",
    "if info_np == 0:\n",
    "    print(\"Converged successfully without preconditioning.\")\n",
    "else:\n",
    "    print(f\"CG did not converge within the maximum number of iterations without preconditioning. Info code: {info_np}\")\n"
   ]
  },
  {
   "cell_type": "code",
   "execution_count": 7,
   "id": "8abd5ff9-0d8c-471f-941c-b05e26daa42d",
   "metadata": {},
   "outputs": [
    {
     "name": "stdout",
     "output_type": "stream",
     "text": [
      "CG with preconditioning converged in 1 iterations.\n",
      "CG without preconditioning converged in 1000 iterations.\n"
     ]
    }
   ],
   "source": [
    "# Callback function to record residual norms\n",
    "def callback_pre(xk):\n",
    "    residual_norms_pre.append(np.linalg.norm(b - A @ xk))\n",
    "\n",
    "def callback_np(xk):\n",
    "    residual_norms_np.append(np.linalg.norm(b - A @ xk))\n",
    "\n",
    "# Lists to store residual norms\n",
    "residual_norms_pre = []\n",
    "residual_norms_np = []\n",
    "\n",
    "# Solve with preconditioning\n",
    "x, info = cg(A, b, x0=x0, atol=1e-6, M=M, maxiter=n,callback=callback_pre)\n",
    "\n",
    "# Solve without preconditioning\n",
    "x_np, info_np = cg(A, b, x0=x0, atol=1e-6,maxiter=n, callback=callback_np)\n",
    "\n",
    "# Number of iterations\n",
    "iterations_pre = len(residual_norms_pre)\n",
    "iterations_np = len(residual_norms_np)\n",
    "\n",
    "print(f\"CG with preconditioning converged in {iterations_pre} iterations.\")\n",
    "print(f\"CG without preconditioning converged in {iterations_np} iterations.\")\n"
   ]
  },
  {
   "cell_type": "code",
   "execution_count": 8,
   "id": "8d4a8dbe-e05f-46fd-a2fa-d660135078f1",
   "metadata": {},
   "outputs": [
    {
     "data": {
      "image/png": "[encoded data removed]",
      "text/plain": [
       "<Figure size 640x480 with 1 Axes>"
      ]
     },
     "metadata": {},
     "output_type": "display_data"
    }
   ],
   "source": [
    "import matplotlib.pyplot as plt\n",
    "\n",
    "plt.semilogy(range(iterations_pre), residual_norms_pre, label='With Preconditioning')\n",
    "plt.semilogy(range(iterations_np), residual_norms_np, label='Without Preconditioning')\n",
    "plt.xlabel('Iteration')\n",
    "plt.ylabel('Residual Norm')\n",
    "plt.title('Convergence of CG with and without Preconditioning')\n",
    "plt.legend()\n",
    "plt.grid(True)\n",
    "plt.show()\n"
   ]
  },
  {
   "cell_type": "code",
   "execution_count": null,
   "id": "421a48ff-5962-4251-82be-1e06d12d8f2b",
   "metadata": {},
   "outputs": [],
   "source": []
  }
 ],
 "metadata": {
  "kernelspec": {
   "display_name": "Python 3 (ipykernel)",
   "language": "python",
   "name": "python3"
  },
  "language_info": {
   "codemirror_mode": {
    "name": "ipython",
    "version": 3
   },
   "file_extension": ".py",
   "mimetype": "text/x-python",
   "name": "python",
   "nbconvert_exporter": "python",
   "pygments_lexer": "ipython3",
   "version": "3.12.1"
  }
 },
 "nbformat": 4,
 "nbformat_minor": 5
}
