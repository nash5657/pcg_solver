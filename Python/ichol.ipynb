{
 "cells": [
  {
   "cell_type": "code",
   "execution_count": 2,
   "id": "fe945d44-d6b7-4e8c-88bb-118393521ba6",
   "metadata": {},
   "outputs": [
    {
     "name": "stdout",
     "output_type": "stream",
     "text": [
      "Error during factorization: Matrix is not positive definite at row 4682.\n"
     ]
    }
   ],
   "source": [
    "import numpy as np\n",
    "from scipy.sparse import tril, csr_matrix\n",
    "from scipy.io import mmread\n",
    "\n",
    "def ichol_sparse_optimized(A, drop_tol=1e-5):\n",
    "    \"\"\"\n",
    "    Optimized Incomplete Cholesky factorization for a sparse matrix A.\n",
    "    A should be a symmetric positive definite matrix in CSC format.\n",
    "    \"\"\"\n",
    "    A = A.tocsc()  # Ensure A is in CSC format\n",
    "    n = A.shape[0]\n",
    "    L = A.copy()   # Create a copy of A to store the result\n",
    "\n",
    "    for k in range(n):\n",
    "        # Update the diagonal element\n",
    "        diag = L[k, k]\n",
    "        if diag <= 0:\n",
    "            raise ValueError(f\"Matrix is not positive definite at row {k}.\")\n",
    "        L[k, k] = np.sqrt(diag)\n",
    "\n",
    "        # Update column k below the diagonal\n",
    "        start, end = L.indptr[k], L.indptr[k + 1]\n",
    "        rows = L.indices[start:end]\n",
    "        below_diag_mask = rows > k\n",
    "\n",
    "        if np.any(below_diag_mask):\n",
    "            rows = rows[below_diag_mask]\n",
    "            L.data[start:end][below_diag_mask] /= L[k, k]\n",
    "\n",
    "            # Update the lower-right submatrix\n",
    "            for i in rows:\n",
    "                i_start, i_end = L.indptr[i], L.indptr[i + 1]\n",
    "                row_indices = L.indices[i_start:i_end]\n",
    "                overlap_mask = np.isin(row_indices, rows, assume_unique=True)\n",
    "                overlap = row_indices[overlap_mask]\n",
    "\n",
    "                # Drop values below the tolerance\n",
    "                for j in overlap:\n",
    "                    L[i, j] -= L[i, k] * L[j, k]\n",
    "                    if abs(L[i, j]) < drop_tol:\n",
    "                        L[i, j] = 0\n",
    "\n",
    "    # Extract the lower triangular part of L\n",
    "    L = tril(L, format='csr')\n",
    "    return L\n",
    "\n",
    "# Load the matrix\n",
    "file_path = 'gyro_k.mtx'  # Update this with your actual file path\n",
    "A = mmread(file_path)\n",
    "\n",
    "# Perform the optimized Incomplete Cholesky factorization\n",
    "try:\n",
    "    L = ichol_sparse_optimized(A)\n",
    "    print(\"Incomplete Cholesky factorization successful.\")\n",
    "except Exception as e:\n",
    "    print(f\"Error during factorization: {e}\")\n"
   ]
  },
  {
   "cell_type": "code",
   "execution_count": null,
   "id": "afc62535-3283-4a00-983d-20683ed3fe24",
   "metadata": {},
   "outputs": [],
   "source": []
  }
 ],
 "metadata": {
  "kernelspec": {
   "display_name": "Python 3 (ipykernel)",
   "language": "python",
   "name": "python3"
  },
  "language_info": {
   "codemirror_mode": {
    "name": "ipython",
    "version": 3
   },
   "file_extension": ".py",
   "mimetype": "text/x-python",
   "name": "python",
   "nbconvert_exporter": "python",
   "pygments_lexer": "ipython3",
   "version": "3.12.1"
  }
 },
 "nbformat": 4,
 "nbformat_minor": 5
}
