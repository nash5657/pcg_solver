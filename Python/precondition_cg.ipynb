{
 "cells": [
  {
   "cell_type": "code",
   "execution_count": 14,
   "id": "7a00bac8-1c79-462e-8e21-6c720eeeb040",
   "metadata": {},
   "outputs": [],
   "source": [
    "import numpy as np\n",
    "import matplotlib.pyplot as plt\n",
    "from scipy.io import mmread\n",
    "\n",
    "from scipy.sparse.linalg import cg, spilu, LinearOperator, aslinearoperator\n",
    "from scipy.sparse import isspmatrix, csr_matrix, tril, diags"
   ]
  },
  {
   "cell_type": "code",
   "execution_count": 15,
   "id": "1420820e-75e5-4a78-841c-b7ee5a3d6ba5",
   "metadata": {},
   "outputs": [],
   "source": [
    "#A = mmread('s3dkq4m2.mtx')\n",
    "# Function to create matrix A\n",
    "def generate_matrix_A(n):\n",
    "    diagonals = [\n",
    "        -1 * np.ones(n - 1),  # Lower diagonal\n",
    "        2 * np.ones(n),       # Main diagonal\n",
    "        -1 * np.ones(n - 1)   # Upper diagonal\n",
    "    ]\n",
    "    \n",
    "    # Create the sparse matrix\n",
    "    A = diags(diagonals, offsets=[-1, 0, 1], format='csr')\n",
    "    \n",
    "    # Adjust the last diagonal element\n",
    "    A[-1, -1] = 1  # Update the last diagonal element directly in the sparse matrix\n",
    "    \n",
    "    return A"
   ]
  },
  {
   "cell_type": "code",
   "execution_count": 16,
   "id": "fa92263f-798d-49a9-8c3c-5dc72863fbf8",
   "metadata": {},
   "outputs": [],
   "source": [
    "# Function to create matrix B\n",
    "def generate_vector_b(n):\n",
    "    b = np.zeros(n)\n",
    "    b[0] = 1\n",
    "    return b"
   ]
  },
  {
   "cell_type": "code",
   "execution_count": 17,
   "id": "66e9b44b-04de-47d0-8dfe-2790b8fc4d89",
   "metadata": {},
   "outputs": [],
   "source": [
    "A= generate_matrix_A(100)"
   ]
  },
  {
   "cell_type": "code",
   "execution_count": 18,
   "id": "8108bd81-9723-4777-96c1-047d02db2de4",
   "metadata": {},
   "outputs": [],
   "source": [
    "n= A.shape[0]\n",
    "b= generate_vector_b(n)"
   ]
  },
  {
   "cell_type": "code",
   "execution_count": 19,
   "id": "a7b016ad-1432-4159-a7e3-071dd09699a4",
   "metadata": {},
   "outputs": [],
   "source": [
    "def preconditioned_conjugate_gradient(A, b, M_inv,max_iter,tol=1e-6):\n",
    "    \"\"\"\n",
    "    Solves Ax = b using the preconditioned conjugate gradient method.\n",
    "\n",
    "    Parameters:\n",
    "    - A: Coefficient matrix (NxN).\n",
    "    - b: Right-hand side vector (Nx1).\n",
    "    - M_inv: Inverse of the preconditioner matrix (NxN).\n",
    "    - tol: Tolerance for the stopping criterion.\n",
    "    - max_iter: Maximum number of iterations.\n",
    "\n",
    "    Returns:\n",
    "    - x: Solution vector (Nx1).\n",
    "    - k: Number of iterations performed.\n",
    "    \"\"\"\n",
    "    # Initialization\n",
    "    k = 0\n",
    "    x = np.zeros_like(b)  # Initial guess x0 = 0\n",
    "    r = b - A @ x         # Initial residual r0 = b - Ax0\n",
    "    y = M_inv @ r         # Preconditioned residual y0 = M_inv * r0\n",
    "    p = y.copy()          # Initial direction p1 = y0\n",
    "    mu_prev = np.dot(r.T, y)  # Initial mu = r0.T @ y0\n",
    "\n",
    "    for k in range(1, max_iter + 1):\n",
    "        z = A @ p\n",
    "        nu = mu_prev / (p.T @ z)\n",
    "        x = x + nu * p\n",
    "        r = r - nu * z\n",
    "\n",
    "        if np.linalg.norm(r) < tol:\n",
    "            break\n",
    "\n",
    "        y = M_inv @ r\n",
    "        mu = np.dot(r.T, y)\n",
    "        beta = mu / mu_prev\n",
    "        p = y + beta * p\n",
    "        mu_prev = mu\n",
    "\n",
    "    return x, k"
   ]
  },
  {
   "cell_type": "code",
   "execution_count": 20,
   "id": "26ea632d-ad39-4425-8c93-7f62a6ac35bb",
   "metadata": {},
   "outputs": [],
   "source": [
    "from scipy.sparse.linalg import LinearOperator\n",
    "\n",
    "# Define a Jacobi preconditioner\n",
    "def jacobi_preconditioner(A):\n",
    "    \"\"\"\n",
    "    Returns a LinearOperator that represents the Jacobi preconditioner.\n",
    "    \"\"\"\n",
    "    diag = A.diagonal()  # Extract the diagonal elements\n",
    "    def apply_preconditioner(x):\n",
    "        return x / diag  # Divide vector x element-wise by the diagonal\n",
    "    return LinearOperator(A.shape, matvec=apply_preconditioner)"
   ]
  },
  {
   "cell_type": "code",
   "execution_count": 21,
   "id": "660ac90e-3806-4235-ae11-1a9d49393733",
   "metadata": {},
   "outputs": [
    {
     "name": "stdout",
     "output_type": "stream",
     "text": [
      "Number of iterations: 100\n"
     ]
    }
   ],
   "source": [
    "# Create the Jacobi preconditioner\n",
    "M_inv = jacobi_preconditioner(A)\n",
    "\n",
    "# Solve the system\n",
    "x, num_iterations = preconditioned_conjugate_gradient(A, b, M_inv, max_iter=n)\n",
    "#print(\"Solution:\", x)\n",
    "print(\"Number of iterations:\", num_iterations)"
   ]
  },
  {
   "cell_type": "code",
   "execution_count": 22,
   "id": "88a9c300-03a9-4efa-9bce-3d112c62ffd7",
   "metadata": {},
   "outputs": [
    {
     "name": "stdout",
     "output_type": "stream",
     "text": [
      "Residual norm: 7.331676146681978e-15\n"
     ]
    }
   ],
   "source": [
    "residual = b - A @ x\n",
    "error_norm = np.linalg.norm(residual)\n",
    "print(\"Residual norm:\", error_norm)"
   ]
  },
  {
   "cell_type": "code",
   "execution_count": 23,
   "id": "bc3c0ed2-8baf-496e-864c-04dbaa2bee55",
   "metadata": {},
   "outputs": [],
   "source": [
    "def ichol_sparse_optimized(A): #final version\n",
    "    \"\"\"\n",
    "    Optimized Incomplete Cholesky factorization for a sparse matrix A.\n",
    "    A should be a symmetric positive definite matrix in CSR format.\n",
    "    \"\"\"\n",
    "    A = A.tocsr()  # Ensure A is in CSR format\n",
    "    n = A.shape[0]\n",
    "    L = A.copy()   # Create a copy of A to store the result\n",
    "\n",
    "    for k in range(n):\n",
    "        # Update the diagonal element\n",
    "        L[k, k] = np.sqrt(L[k, k])\n",
    "        \n",
    "        # Update column k below the diagonal\n",
    "        rows = L.indices[L.indptr[k] : L.indptr[k + 1]]\n",
    "        rows = rows[rows > k]  # Only consider rows below the diagonal\n",
    "        \n",
    "        if rows.size > 0:\n",
    "            L[rows, k] /= L[k, k]\n",
    "\n",
    "        # Update the lower-right submatrix\n",
    "        for i in rows:\n",
    "            L[i, rows] -= L[i, k] * L[rows, k]\n",
    "    \n",
    "    # Extract the lower triangular part of L\n",
    "    L = tril(L, format='csr')\n",
    "    return L\n"
   ]
  },
  {
   "cell_type": "code",
   "execution_count": 24,
   "id": "77c98f6a-68f6-40de-815f-572e08e0cb8e",
   "metadata": {},
   "outputs": [],
   "source": [
    "def ichol_preconditioner(A):\n",
    "    \"\"\"\n",
    "    Compute the preconditioner using Incomplete Cholesky.\n",
    "    Returns a function to apply M_inv = L^-1 * L^-T to a vector.\n",
    "    \"\"\"\n",
    "    # Compute the Incomplete Cholesky factorization\n",
    "    L = ichol_sparse_optimized(A)\n",
    "    \n",
    "    # Define a function to apply M_inv = (L^-1)(L^-T)\n",
    "    def apply_preconditioner(v):\n",
    "        # Solve L * y = v (forward substitution)\n",
    "        y = spsolve(L, v)\n",
    "        # Solve L.T * z = y (backward substitution)\n",
    "        z = spsolve(L.T, y)\n",
    "        return z\n",
    "    \n",
    "    # Return as a LinearOperator for compatibility\n",
    "    n = A.shape[0]\n",
    "    M_inv = LinearOperator((n, n), matvec=apply_preconditioner)\n",
    "    return M_inv\n"
   ]
  },
  {
   "cell_type": "code",
   "execution_count": 25,
   "id": "836c76f7-41ad-4de1-9451-4a65bad7fbb9",
   "metadata": {},
   "outputs": [],
   "source": [
    "A= generate_matrix_A(10)\n",
    "n= A.shape[0]\n",
    "b= generate_vector_b(n)"
   ]
  },
  {
   "cell_type": "code",
   "execution_count": 26,
   "id": "cc6e5310-f246-4d12-9527-c5336dd6b64a",
   "metadata": {},
   "outputs": [
    {
     "name": "stdout",
     "output_type": "stream",
     "text": [
      "Number of iterations: 1\n"
     ]
    }
   ],
   "source": [
    "from scipy.sparse.linalg import spsolve, LinearOperator\n",
    "from scipy.sparse import tril\n",
    "# Compute the preconditioner\n",
    "M_inv = ichol_preconditioner(A)\n",
    "\n",
    "# Solve the system\n",
    "x, num_iterations = preconditioned_conjugate_gradient(A, b, M_inv,max_iter=n)\n",
    "#print(\"Solution:\", x)\n",
    "print(\"Number of iterations:\", num_iterations)"
   ]
  },
  {
   "cell_type": "code",
   "execution_count": 27,
   "id": "0e24142b-5be0-44c4-bac1-7bd8fedc9b9b",
   "metadata": {},
   "outputs": [
    {
     "data": {
      "image/png": "[encoded data removed]",
      "text/plain": [
       "<Figure size 640x480 with 1 Axes>"
      ]
     },
     "metadata": {},
     "output_type": "display_data"
    }
   ],
   "source": [
    "x = np.round(x,2)\n",
    "plt.plot(x, marker='o', linestyle='-')\n",
    "plt.title(\"Solution Vector\")\n",
    "plt.xlabel(\"Index\")\n",
    "plt.ylabel(\"Value\")\n",
    "plt.grid(True)\n",
    "plt.show()"
   ]
  },
  {
   "cell_type": "code",
   "execution_count": null,
   "id": "25eb7adf-eaa3-4782-9469-3e7fd2efad30",
   "metadata": {},
   "outputs": [],
   "source": []
  }
 ],
 "metadata": {
  "kernelspec": {
   "display_name": "env",
   "language": "python",
   "name": "python3"
  },
  "language_info": {
   "codemirror_mode": {
    "name": "ipython",
    "version": 3
   },
   "file_extension": ".py",
   "mimetype": "text/x-python",
   "name": "python",
   "nbconvert_exporter": "python",
   "pygments_lexer": "ipython3",
   "version": "3.12.1"
  }
 },
 "nbformat": 4,
 "nbformat_minor": 5
}
