{
 "cells": [
  {
   "cell_type": "code",
   "execution_count": 132,
   "id": "c6f36058-edd8-4fa4-bdb2-0761b3cbcea3",
   "metadata": {},
   "outputs": [],
   "source": [
    "import numpy as np\n",
    "from scipy.sparse import diags\n",
    "from scipy.sparse.linalg import cg\n",
    "from scipy.sparse.linalg import eigsh"
   ]
  },
  {
   "cell_type": "code",
   "execution_count": 133,
   "id": "3af35dfb-a223-4616-915a-cd54513a9d97",
   "metadata": {},
   "outputs": [],
   "source": [
    "# Function to create matrix A\n",
    "def create_matrix_A(n):\n",
    "    diagonals = [\n",
    "        -1 * np.ones(n - 1),  # Lower diagonal\n",
    "        2 * np.ones(n),       # Main diagonal\n",
    "        -1 * np.ones(n - 1)   # Upper diagonal\n",
    "    ]\n",
    "    \n",
    "    # Create the sparse matrix\n",
    "    A = diags(diagonals, offsets=[-1, 0, 1], format='csr')\n",
    "    \n",
    "    # Adjust the last diagonal element\n",
    "    A[-1, -1] = 1  # Update the last diagonal element directly in the sparse matrix\n",
    "    \n",
    "    return A"
   ]
  },
  {
   "cell_type": "code",
   "execution_count": 134,
   "id": "6dcb9b05-126e-4e0e-857a-2d6a14d7d2f4",
   "metadata": {},
   "outputs": [
    {
     "name": "stdout",
     "output_type": "stream",
     "text": [
      "<Compressed Sparse Row sparse matrix of dtype 'float64'\n",
      "\twith 13 stored elements and shape (5, 5)>\n",
      "  Coords\tValues\n",
      "  (0, 0)\t2.0\n",
      "  (0, 1)\t-1.0\n",
      "  (1, 0)\t-1.0\n",
      "  (1, 1)\t2.0\n",
      "  (1, 2)\t-1.0\n",
      "  (2, 1)\t-1.0\n",
      "  (2, 2)\t2.0\n",
      "  (2, 3)\t-1.0\n",
      "  (3, 2)\t-1.0\n",
      "  (3, 3)\t2.0\n",
      "  (3, 4)\t-1.0\n",
      "  (4, 3)\t-1.0\n",
      "  (4, 4)\t1.0\n"
     ]
    }
   ],
   "source": [
    "print(create_matrix_A(5))"
   ]
  },
  {
   "cell_type": "code",
   "execution_count": 149,
   "id": "50b23e49-47a2-4859-9e13-d02a5e5ec982",
   "metadata": {},
   "outputs": [],
   "source": [
    "# Define the size of the matrix\n",
    "n = 1000  # Example size"
   ]
  },
  {
   "cell_type": "code",
   "execution_count": 150,
   "id": "05c446ab-00f1-4e7c-8225-0a12525596d4",
   "metadata": {},
   "outputs": [],
   "source": [
    "A = create_matrix_A(n)"
   ]
  },
  {
   "cell_type": "code",
   "execution_count": 162,
   "id": "d7bec7b9-34c7-49d9-adcd-065117a91f3d",
   "metadata": {},
   "outputs": [],
   "source": [
    "# Calculate the smallest and largest eigenvalues\n",
    "smallest_eigenvalue, _ = eigsh(A, k=1,  which='SM')  # Smallest magnitude\n",
    "largest_eigenvalue, _ = eigsh(A, k=1,which='LM')  # Largest magnitude"
   ]
  },
  {
   "cell_type": "code",
   "execution_count": 163,
   "id": "873bf25c-c722-46b4-a048-c8cb8f5cef94",
   "metadata": {},
   "outputs": [
    {
     "name": "stdout",
     "output_type": "stream",
     "text": [
      "largest[3.99999014] smalest[2.46493504e-06]\n"
     ]
    }
   ],
   "source": [
    "print(f'largest{largest_eigenvalue} smalest{smallest_eigenvalue}')"
   ]
  },
  {
   "cell_type": "code",
   "execution_count": 164,
   "id": "e43c9755-f5d2-483f-b5f5-d6de145173f1",
   "metadata": {},
   "outputs": [
    {
     "name": "stdout",
     "output_type": "stream",
     "text": [
      "Condition Number of A:\n",
      "1622756.8157492557\n"
     ]
    }
   ],
   "source": [
    "# Calculate the condition number\n",
    "condition_number = largest_eigenvalue[0] / smallest_eigenvalue[0]\n",
    "\n",
    "# Display the result\n",
    "print(\"Condition Number of A:\")\n",
    "print(condition_number)"
   ]
  },
  {
   "cell_type": "code",
   "execution_count": null,
   "id": "f2db3d69-fe69-4f16-bef2-395a0c4ea9d8",
   "metadata": {},
   "outputs": [],
   "source": []
  }
 ],
 "metadata": {
  "kernelspec": {
   "display_name": "Python 3 (ipykernel)",
   "language": "python",
   "name": "python3"
  },
  "language_info": {
   "codemirror_mode": {
    "name": "ipython",
    "version": 3
   },
   "file_extension": ".py",
   "mimetype": "text/x-python",
   "name": "python",
   "nbconvert_exporter": "python",
   "pygments_lexer": "ipython3",
   "version": "3.12.1"
  }
 },
 "nbformat": 4,
 "nbformat_minor": 5
}
