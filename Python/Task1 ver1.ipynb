{
 "cells": [
  {
   "cell_type": "code",
   "execution_count": 1,
   "id": "ee2141a4-4124-4a8c-a5be-0e6bd251885a",
   "metadata": {},
   "outputs": [],
   "source": [
    "import numpy as np\n",
    "from scipy.sparse import diags\n",
    "from scipy.sparse.linalg import cg\n",
    "import matplotlib.pyplot as plt"
   ]
  },
  {
   "cell_type": "code",
   "execution_count": 2,
   "id": "9dd785d3-3419-4b3a-877b-a2006e1586b8",
   "metadata": {},
   "outputs": [],
   "source": [
    "# Function to create matrix A\n",
    "def generate_matrix_A(n):\n",
    "    e = np.ones(n)\n",
    "    data = np.array([-e, 2*e, -e])\n",
    "    offsets = np.array([-1, 0, 1])\n",
    "    A = diags(data, offsets, shape=(n, n)).toarray()\n",
    "    A[n-1, n-1] = 1  # Set A(n,n) = 1\n",
    "    return A"
   ]
  },
  {
   "cell_type": "code",
   "execution_count": 5,
   "id": "821bdc05-2dd9-44a5-9ff5-2b122684fcaf",
   "metadata": {},
   "outputs": [],
   "source": [
    "# Function to create matrix B\n",
    "def generate_vector_b(n):\n",
    "    b = np.zeros(n)\n",
    "    b[0] = 1\n",
    "    return b\n"
   ]
  },
  {
   "cell_type": "code",
   "execution_count": 7,
   "id": "c060abc3-f67a-42b4-bd1e-6177af033a55",
   "metadata": {},
   "outputs": [],
   "source": [
    "# Modified Conjugate Gradient Implementation with Tracking\n",
    "def conjugate_gradient_track(A, b, tol=1e-6, max_iter=None):\n",
    "    x = np.zeros_like(b)\n",
    "    r = b - A.dot(x)\n",
    "    p = r.copy()\n",
    "    rs_old = np.dot(r, r)\n",
    "    residual_norms = [np.sqrt(rs_old)]  # List to store residual norms\n",
    "    \n",
    "    if max_iter is None:\n",
    "        max_iter = len(b)\n",
    "    \n",
    "    for i in range(max_iter):\n",
    "        Ap = A.dot(p)\n",
    "        pAp = np.dot(p, Ap)\n",
    "        if pAp == 0:\n",
    "            print(\"Encountered zero denominator in alpha computation.\")\n",
    "            break\n",
    "        alpha = rs_old / pAp\n",
    "        x += alpha * p\n",
    "        r -= alpha * Ap\n",
    "        rs_new = np.dot(r, r)\n",
    "        residual_norms.append(np.sqrt(rs_new))\n",
    "        \n",
    "        if np.sqrt(rs_new) < tol:\n",
    "            print(f\"Converged in {i + 1} iterations.\")\n",
    "            break\n",
    "        \n",
    "        p = r + (rs_new / rs_old) * p\n",
    "        rs_old = rs_new\n",
    "    else:\n",
    "        print(\"Maximum iterations reached without convergence.\")\n",
    "    \n",
    "    return x, residual_norms\n"
   ]
  },
  {
   "cell_type": "code",
   "execution_count": 9,
   "id": "5b701101-9c05-4554-9293-57eb0cd98130",
   "metadata": {},
   "outputs": [],
   "source": [
    "# Custom Conjugate Gradient Implementation\n",
    "def conjugate_gradient(A, b, tol=1e-6, max_iter=None):\n",
    "    x = np.zeros_like(b)  # Initial guess x0\n",
    "    r = b - A.dot(x)      # Residual\n",
    "    p = r.copy()\n",
    "    rs_old = np.dot(r, r)\n",
    "    \n",
    "    if max_iter is None:\n",
    "        max_iter = len(b)  # Set max_iter to n if not specified\n",
    "    \n",
    "    for i in range(max_iter):\n",
    "        Ap = A.dot(p)\n",
    "        pAp = np.dot(p, Ap)\n",
    "        if pAp == 0:\n",
    "            print(\"Encountered zero denominator in alpha computation.\")\n",
    "            break\n",
    "        alpha = rs_old / pAp\n",
    "        x += alpha * p\n",
    "        r -= alpha * Ap\n",
    "        rs_new = np.dot(r, r)\n",
    "        \n",
    "        if np.sqrt(rs_new) < tol:\n",
    "            print(f\"Converged in {i + 1} iterations.\")\n",
    "            break\n",
    "        \n",
    "        p = r + (rs_new / rs_old) * p\n",
    "        rs_old = rs_new\n",
    "        \n",
    "    else:\n",
    "        print(\"Maximum iterations reached without convergence.\")\n",
    "    \n",
    "    return x"
   ]
  },
  {
   "cell_type": "code",
   "execution_count": 12,
   "id": "2423c99b-3959-4a83-95da-0d50890be5cd",
   "metadata": {},
   "outputs": [
    {
     "name": "stdout",
     "output_type": "stream",
     "text": [
      "Converged in 100 iterations.\n",
      "Solution error: 6.626226959482515e-13\n"
     ]
    }
   ],
   "source": [
    "#Example usage\n",
    "n = 100  # You can change this to 10, 50, 100, etc.\n",
    "A = generate_matrix_A(n)\n",
    "b = generate_vector_b(n)\n",
    "    \n",
    "x = conjugate_gradient(A, b, tol=1e-6)\n",
    "    \n",
    "# Verify the solution\n",
    "x_true = np.ones(n)  # The true solution is a vector of ones\n",
    "error = np.linalg.norm(x - x_true)\n",
    "print(f\"Solution error: {error}\")"
   ]
  },
  {
   "cell_type": "code",
   "execution_count": 15,
   "id": "0a6cefa2-6a51-4353-ad6d-f7e157fc8458",
   "metadata": {},
   "outputs": [
    {
     "name": "stdout",
     "output_type": "stream",
     "text": [
      "Converged in 100 iterations.\n"
     ]
    },
    {
     "data": {
      "image/png": "[encoded data removed]",
      "text/plain": [
       "<Figure size 640x480 with 1 Axes>"
      ]
     },
     "metadata": {},
     "output_type": "display_data"
    }
   ],
   "source": [
    "x, residuals = conjugate_gradient_track(A, b, tol=1e-6)\n",
    "# You can now plot residuals vs. iterations to observe convergence\n",
    "plt.semilogy(residuals)\n",
    "plt.xlabel('Iteration')\n",
    "plt.ylabel('Residual Norm')\n",
    "plt.title('Convergence of Conjugate Gradient Method')\n",
    "plt.show()\n"
   ]
  },
  {
   "cell_type": "code",
   "execution_count": null,
   "id": "cd8b9598-0359-44a4-a947-5df7eaad6371",
   "metadata": {},
   "outputs": [],
   "source": []
  }
 ],
 "metadata": {
  "kernelspec": {
   "display_name": "Python 3 (ipykernel)",
   "language": "python",
   "name": "python3"
  },
  "language_info": {
   "codemirror_mode": {
    "name": "ipython",
    "version": 3
   },
   "file_extension": ".py",
   "mimetype": "text/x-python",
   "name": "python",
   "nbconvert_exporter": "python",
   "pygments_lexer": "ipython3",
   "version": "3.12.1"
  }
 },
 "nbformat": 4,
 "nbformat_minor": 5
}
